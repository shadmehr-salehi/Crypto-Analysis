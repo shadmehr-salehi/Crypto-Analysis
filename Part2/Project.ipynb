{
 "cells": [
  {
   "cell_type": "markdown",
   "metadata": {},
   "source": [
    "# Part 1"
   ]
  },
  {
   "cell_type": "code",
   "execution_count": 1,
   "metadata": {},
   "outputs": [],
   "source": [
    "import pandas as pd \n",
    "import numpy as np\n",
    "import matplotlib.pyplot as plt\n",
    "import seaborn as sns\n"
   ]
  },
  {
   "cell_type": "code",
   "execution_count": 2,
   "metadata": {},
   "outputs": [],
   "source": [
    "import warnings \n",
    "warnings.filterwarnings('ignore')"
   ]
  },
  {
   "cell_type": "code",
   "execution_count": 3,
   "metadata": {},
   "outputs": [],
   "source": [
    "df = pd.read_csv('Q1_data.csv')"
   ]
  },
  {
   "cell_type": "code",
   "execution_count": 4,
   "metadata": {},
   "outputs": [
    {
     "data": {
      "text/html": [
       "<div>\n",
       "<style scoped>\n",
       "    .dataframe tbody tr th:only-of-type {\n",
       "        vertical-align: middle;\n",
       "    }\n",
       "\n",
       "    .dataframe tbody tr th {\n",
       "        vertical-align: top;\n",
       "    }\n",
       "\n",
       "    .dataframe thead th {\n",
       "        text-align: right;\n",
       "    }\n",
       "</style>\n",
       "<table border=\"1\" class=\"dataframe\">\n",
       "  <thead>\n",
       "    <tr style=\"text-align: right;\">\n",
       "      <th></th>\n",
       "      <th>Unnamed: 0</th>\n",
       "      <th>symbol</th>\n",
       "      <th>name</th>\n",
       "      <th>time_stamp</th>\n",
       "      <th>time_high</th>\n",
       "      <th>time_low</th>\n",
       "      <th>open</th>\n",
       "      <th>close</th>\n",
       "      <th>high</th>\n",
       "      <th>low</th>\n",
       "      <th>market_cap</th>\n",
       "      <th>volume</th>\n",
       "    </tr>\n",
       "  </thead>\n",
       "  <tbody>\n",
       "    <tr>\n",
       "      <th>0</th>\n",
       "      <td>0</td>\n",
       "      <td>BTC</td>\n",
       "      <td>Bitcoin</td>\n",
       "      <td>2023-05-17T23:59:59.999Z</td>\n",
       "      <td>2023-05-17T20:09:00.000Z</td>\n",
       "      <td>2023-05-17T14:03:00.000Z</td>\n",
       "      <td>27035.470130</td>\n",
       "      <td>27398.802028</td>\n",
       "      <td>27465.927904</td>\n",
       "      <td>26600.144844</td>\n",
       "      <td>5.308901e+11</td>\n",
       "      <td>1.514001e+10</td>\n",
       "    </tr>\n",
       "    <tr>\n",
       "      <th>1</th>\n",
       "      <td>1</td>\n",
       "      <td>BTC</td>\n",
       "      <td>Bitcoin</td>\n",
       "      <td>2023-05-13T23:59:59.999Z</td>\n",
       "      <td>2023-05-13T18:50:00.000Z</td>\n",
       "      <td>2023-05-13T00:32:00.000Z</td>\n",
       "      <td>26807.769044</td>\n",
       "      <td>26784.078561</td>\n",
       "      <td>27030.482960</td>\n",
       "      <td>26710.873803</td>\n",
       "      <td>5.188737e+11</td>\n",
       "      <td>9.999172e+09</td>\n",
       "    </tr>\n",
       "    <tr>\n",
       "      <th>2</th>\n",
       "      <td>2</td>\n",
       "      <td>BTC</td>\n",
       "      <td>Bitcoin</td>\n",
       "      <td>2023-03-08T23:59:59.999Z</td>\n",
       "      <td>2023-03-08T00:23:00.000Z</td>\n",
       "      <td>2023-03-08T23:43:00.000Z</td>\n",
       "      <td>22216.442321</td>\n",
       "      <td>21718.079830</td>\n",
       "      <td>22268.896252</td>\n",
       "      <td>21708.050506</td>\n",
       "      <td>4.194214e+11</td>\n",
       "      <td>2.253658e+10</td>\n",
       "    </tr>\n",
       "    <tr>\n",
       "      <th>3</th>\n",
       "      <td>3</td>\n",
       "      <td>BTC</td>\n",
       "      <td>Bitcoin</td>\n",
       "      <td>2023-02-21T23:59:59.999Z</td>\n",
       "      <td>2023-02-21T08:30:00.000Z</td>\n",
       "      <td>2023-02-21T22:06:00.000Z</td>\n",
       "      <td>24833.048914</td>\n",
       "      <td>24436.354485</td>\n",
       "      <td>25126.851686</td>\n",
       "      <td>24200.364116</td>\n",
       "      <td>4.715777e+11</td>\n",
       "      <td>3.125210e+10</td>\n",
       "    </tr>\n",
       "    <tr>\n",
       "      <th>4</th>\n",
       "      <td>4</td>\n",
       "      <td>BTC</td>\n",
       "      <td>Bitcoin</td>\n",
       "      <td>2022-10-15T23:59:59.999Z</td>\n",
       "      <td>2022-10-15T03:59:00.000Z</td>\n",
       "      <td>2022-10-15T23:04:00.000Z</td>\n",
       "      <td>19185.437304</td>\n",
       "      <td>19067.635082</td>\n",
       "      <td>19212.541608</td>\n",
       "      <td>19019.250125</td>\n",
       "      <td>3.657224e+11</td>\n",
       "      <td>1.619224e+10</td>\n",
       "    </tr>\n",
       "    <tr>\n",
       "      <th>...</th>\n",
       "      <td>...</td>\n",
       "      <td>...</td>\n",
       "      <td>...</td>\n",
       "      <td>...</td>\n",
       "      <td>...</td>\n",
       "      <td>...</td>\n",
       "      <td>...</td>\n",
       "      <td>...</td>\n",
       "      <td>...</td>\n",
       "      <td>...</td>\n",
       "      <td>...</td>\n",
       "      <td>...</td>\n",
       "    </tr>\n",
       "    <tr>\n",
       "      <th>1451</th>\n",
       "      <td>1451</td>\n",
       "      <td>BTC</td>\n",
       "      <td>Bitcoin</td>\n",
       "      <td>2022-11-07T23:59:59.999Z</td>\n",
       "      <td>2022-11-07T02:18:00.000Z</td>\n",
       "      <td>2022-11-07T22:33:00.000Z</td>\n",
       "      <td>20924.620484</td>\n",
       "      <td>20602.816725</td>\n",
       "      <td>21053.246150</td>\n",
       "      <td>20489.973344</td>\n",
       "      <td>3.955964e+11</td>\n",
       "      <td>5.351085e+10</td>\n",
       "    </tr>\n",
       "    <tr>\n",
       "      <th>1452</th>\n",
       "      <td>1452</td>\n",
       "      <td>BNB</td>\n",
       "      <td>BNB</td>\n",
       "      <td>2022-12-24T23:59:59.999Z</td>\n",
       "      <td>2022-12-24T00:02:00.000Z</td>\n",
       "      <td>2022-12-24T12:32:00.000Z</td>\n",
       "      <td>246.151646</td>\n",
       "      <td>244.635529</td>\n",
       "      <td>246.181715</td>\n",
       "      <td>243.953043</td>\n",
       "      <td>3.913335e+10</td>\n",
       "      <td>2.806274e+08</td>\n",
       "    </tr>\n",
       "    <tr>\n",
       "      <th>1453</th>\n",
       "      <td>1453</td>\n",
       "      <td>ETH</td>\n",
       "      <td>Ethereum</td>\n",
       "      <td>2023-04-18T23:59:59.999Z</td>\n",
       "      <td>2023-04-18T11:51:00.000Z</td>\n",
       "      <td>2023-04-18T01:16:00.000Z</td>\n",
       "      <td>2075.855262</td>\n",
       "      <td>2104.537267</td>\n",
       "      <td>2121.531519</td>\n",
       "      <td>2057.653862</td>\n",
       "      <td>2.512149e+11</td>\n",
       "      <td>9.134015e+09</td>\n",
       "    </tr>\n",
       "    <tr>\n",
       "      <th>1454</th>\n",
       "      <td>1454</td>\n",
       "      <td>ETH</td>\n",
       "      <td>Ethereum</td>\n",
       "      <td>2022-10-18T23:59:59.999Z</td>\n",
       "      <td>2022-10-18T00:35:00.000Z</td>\n",
       "      <td>2022-10-18T19:17:00.000Z</td>\n",
       "      <td>1331.669921</td>\n",
       "      <td>1310.447037</td>\n",
       "      <td>1339.085967</td>\n",
       "      <td>1291.660699</td>\n",
       "      <td>1.603645e+11</td>\n",
       "      <td>1.041675e+10</td>\n",
       "    </tr>\n",
       "    <tr>\n",
       "      <th>1455</th>\n",
       "      <td>1455</td>\n",
       "      <td>USDT</td>\n",
       "      <td>Tether USDt</td>\n",
       "      <td>2023-06-18T23:59:59.999Z</td>\n",
       "      <td>2023-06-18T21:25:00.000Z</td>\n",
       "      <td>2023-06-18T09:25:00.000Z</td>\n",
       "      <td>0.999711</td>\n",
       "      <td>0.999808</td>\n",
       "      <td>1.000442</td>\n",
       "      <td>0.999443</td>\n",
       "      <td>8.315792e+10</td>\n",
       "      <td>1.427639e+10</td>\n",
       "    </tr>\n",
       "  </tbody>\n",
       "</table>\n",
       "<p>1456 rows × 12 columns</p>\n",
       "</div>"
      ],
      "text/plain": [
       "      Unnamed: 0 symbol         name                time_stamp  \\\n",
       "0              0    BTC      Bitcoin  2023-05-17T23:59:59.999Z   \n",
       "1              1    BTC      Bitcoin  2023-05-13T23:59:59.999Z   \n",
       "2              2    BTC      Bitcoin  2023-03-08T23:59:59.999Z   \n",
       "3              3    BTC      Bitcoin  2023-02-21T23:59:59.999Z   \n",
       "4              4    BTC      Bitcoin  2022-10-15T23:59:59.999Z   \n",
       "...          ...    ...          ...                       ...   \n",
       "1451        1451    BTC      Bitcoin  2022-11-07T23:59:59.999Z   \n",
       "1452        1452    BNB          BNB  2022-12-24T23:59:59.999Z   \n",
       "1453        1453    ETH     Ethereum  2023-04-18T23:59:59.999Z   \n",
       "1454        1454    ETH     Ethereum  2022-10-18T23:59:59.999Z   \n",
       "1455        1455   USDT  Tether USDt  2023-06-18T23:59:59.999Z   \n",
       "\n",
       "                     time_high                  time_low          open  \\\n",
       "0     2023-05-17T20:09:00.000Z  2023-05-17T14:03:00.000Z  27035.470130   \n",
       "1     2023-05-13T18:50:00.000Z  2023-05-13T00:32:00.000Z  26807.769044   \n",
       "2     2023-03-08T00:23:00.000Z  2023-03-08T23:43:00.000Z  22216.442321   \n",
       "3     2023-02-21T08:30:00.000Z  2023-02-21T22:06:00.000Z  24833.048914   \n",
       "4     2022-10-15T03:59:00.000Z  2022-10-15T23:04:00.000Z  19185.437304   \n",
       "...                        ...                       ...           ...   \n",
       "1451  2022-11-07T02:18:00.000Z  2022-11-07T22:33:00.000Z  20924.620484   \n",
       "1452  2022-12-24T00:02:00.000Z  2022-12-24T12:32:00.000Z    246.151646   \n",
       "1453  2023-04-18T11:51:00.000Z  2023-04-18T01:16:00.000Z   2075.855262   \n",
       "1454  2022-10-18T00:35:00.000Z  2022-10-18T19:17:00.000Z   1331.669921   \n",
       "1455  2023-06-18T21:25:00.000Z  2023-06-18T09:25:00.000Z      0.999711   \n",
       "\n",
       "             close          high           low    market_cap        volume  \n",
       "0     27398.802028  27465.927904  26600.144844  5.308901e+11  1.514001e+10  \n",
       "1     26784.078561  27030.482960  26710.873803  5.188737e+11  9.999172e+09  \n",
       "2     21718.079830  22268.896252  21708.050506  4.194214e+11  2.253658e+10  \n",
       "3     24436.354485  25126.851686  24200.364116  4.715777e+11  3.125210e+10  \n",
       "4     19067.635082  19212.541608  19019.250125  3.657224e+11  1.619224e+10  \n",
       "...            ...           ...           ...           ...           ...  \n",
       "1451  20602.816725  21053.246150  20489.973344  3.955964e+11  5.351085e+10  \n",
       "1452    244.635529    246.181715    243.953043  3.913335e+10  2.806274e+08  \n",
       "1453   2104.537267   2121.531519   2057.653862  2.512149e+11  9.134015e+09  \n",
       "1454   1310.447037   1339.085967   1291.660699  1.603645e+11  1.041675e+10  \n",
       "1455      0.999808      1.000442      0.999443  8.315792e+10  1.427639e+10  \n",
       "\n",
       "[1456 rows x 12 columns]"
      ]
     },
     "execution_count": 4,
     "metadata": {},
     "output_type": "execute_result"
    }
   ],
   "source": [
    "df"
   ]
  },
  {
   "cell_type": "code",
   "execution_count": 5,
   "metadata": {},
   "outputs": [
    {
     "data": {
      "text/plain": [
       "array(['Bitcoin', 'BNB', 'Ethereum', 'Tether USDt'], dtype=object)"
      ]
     },
     "execution_count": 5,
     "metadata": {},
     "output_type": "execute_result"
    }
   ],
   "source": [
    "df['name'].unique()"
   ]
  },
  {
   "cell_type": "code",
   "execution_count": 6,
   "metadata": {},
   "outputs": [],
   "source": [
    "from sklearn.preprocessing import MinMaxScaler\n",
    "scaler = MinMaxScaler()\n",
    "df[['volume','market_cap']] = scaler.fit_transform(df[['volume','market_cap']])"
   ]
  },
  {
   "cell_type": "code",
   "execution_count": 7,
   "metadata": {},
   "outputs": [
    {
     "data": {
      "text/plain": [
       "Text(0, 0.5, 'Market Cap')"
      ]
     },
     "execution_count": 7,
     "metadata": {},
     "output_type": "execute_result"
    },
    {
     "data": {
      "image/png": "[encoded data removed]",
      "text/plain": [
       "<Figure size 1080x720 with 1 Axes>"
      ]
     },
     "metadata": {
      "needs_background": "light"
     },
     "output_type": "display_data"
    }
   ],
   "source": [
    "plt.figure(figsize=(15, 10))\n",
    "plt.scatter(df[df['name'] == 'Bitcoin']['volume'], df[df['name'] == 'Bitcoin']['market_cap'], s=5, color='blue')\n",
    "plt.scatter(df[df['name'] == 'BNB']['volume'], df[df['name'] == 'BNB']['market_cap'], s=5, color='green')\n",
    "plt.scatter(df[df['name'] == 'Ethereum']['volume'], df[df['name'] == 'Ethereum']['market_cap'], s=5, color='red')\n",
    "plt.scatter(df[df['name'] == 'Tether USDt']['volume'], df[df['name'] == 'Tether USDt']['market_cap'], s=5, color='yellow')\n",
    "plt.xlabel('Volume')\n",
    "plt.ylabel('Market Cap')"
   ]
  },
  {
   "cell_type": "code",
   "execution_count": 8,
   "metadata": {},
   "outputs": [],
   "source": [
    "#run kmeans clustering based on market cap and volume \n",
    "from sklearn.cluster import KMeans\n",
    "kmeans = KMeans(n_clusters=5)\n",
    "kmeans.fit(df[['market_cap', 'volume']])\n",
    "df['cluster'] = kmeans.predict(df[['market_cap', 'volume']])"
   ]
  },
  {
   "cell_type": "code",
   "execution_count": 9,
   "metadata": {},
   "outputs": [
    {
     "data": {
      "image/png": "[encoded data removed]",
      "text/plain": [
       "<Figure size 1080x720 with 1 Axes>"
      ]
     },
     "metadata": {
      "needs_background": "light"
     },
     "output_type": "display_data"
    }
   ],
   "source": [
    "#plot the clusters\n",
    "plt.figure(figsize=(15, 10))\n",
    "plt.scatter(df[df['cluster'] == 0]['volume'], df[df['cluster'] == 0]['market_cap'], s=5, color='blue')\n",
    "plt.scatter(df[df['cluster'] == 1]['volume'], df[df['cluster'] == 1]['market_cap'], s=5, color='green')\n",
    "plt.scatter(df[df['cluster'] == 2]['volume'], df[df['cluster'] == 2]['market_cap'], s=5, color='red')\n",
    "plt.scatter(df[df['cluster'] == 3]['volume'], df[df['cluster'] == 3]['market_cap'], s=5, color='yellow')\n",
    "plt.scatter(df[df['cluster'] == 4]['volume'], df[df['cluster'] == 4]['market_cap'], s=5, color='orange')\n",
    "plt.scatter(kmeans.cluster_centers_[:, 1], kmeans.cluster_centers_[:, 0], color='black', marker='o', s=50)\n",
    "plt.show()"
   ]
  },
  {
   "cell_type": "code",
   "execution_count": 10,
   "metadata": {},
   "outputs": [
    {
     "data": {
      "text/plain": [
       "[<matplotlib.lines.Line2D at 0x2019cd1f0a0>]"
      ]
     },
     "execution_count": 10,
     "metadata": {},
     "output_type": "execute_result"
    },
    {
     "data": {
      "image/png": "[encoded data removed]",
      "text/plain": [
       "<Figure size 432x288 with 1 Axes>"
      ]
     },
     "metadata": {
      "needs_background": "light"
     },
     "output_type": "display_data"
    }
   ],
   "source": [
    "#run this for k =1 to k = 10 and calculate within cluster sum of squares\n",
    "wcss = []\n",
    "for i in range(1, 11):\n",
    "    kmeans = KMeans(n_clusters=i)\n",
    "    kmeans.fit(df[['market_cap', 'volume']])\n",
    "    wcss.append(kmeans.inertia_)\n",
    "plt.plot(range(1, 11), wcss)"
   ]
  },
  {
   "cell_type": "code",
   "execution_count": 11,
   "metadata": {},
   "outputs": [
    {
     "data": {
      "text/plain": [
       "array([ 0, -1,  1,  2,  3], dtype=int64)"
      ]
     },
     "execution_count": 11,
     "metadata": {},
     "output_type": "execute_result"
    }
   ],
   "source": [
    "#run dbscan clustering based on market cap and volume\n",
    "from sklearn.cluster import DBSCAN\n",
    "dbscan = DBSCAN(eps=0.055, min_samples=70, metric='euclidean')\n",
    "dbscan.fit(df[['market_cap', 'volume']])\n",
    "df['cluster'] = dbscan.labels_\n",
    "df['cluster'].unique()"
   ]
  },
  {
   "cell_type": "code",
   "execution_count": 12,
   "metadata": {},
   "outputs": [
    {
     "data": {
      "text/plain": [
       "<matplotlib.collections.PathCollection at 0x2019ca12b80>"
      ]
     },
     "execution_count": 12,
     "metadata": {},
     "output_type": "execute_result"
    },
    {
     "data": {
      "image/png": "[encoded data removed]",
      "text/plain": [
       "<Figure size 1080x720 with 1 Axes>"
      ]
     },
     "metadata": {
      "needs_background": "light"
     },
     "output_type": "display_data"
    }
   ],
   "source": [
    "#plot the clusters\n",
    "plt.figure(figsize=(15, 10))\n",
    "plt.scatter(df[df['cluster'] == -1]['volume'], df[df['cluster'] == -1]['market_cap'], s=5, color='blue')\n",
    "plt.scatter(df[df['cluster'] == 0]['volume'], df[df['cluster'] == 0]['market_cap'], s=5, color='green')\n",
    "plt.scatter(df[df['cluster'] == 1]['volume'], df[df['cluster'] == 1]['market_cap'], s=5, color='red')\n",
    "plt.scatter(df[df['cluster'] == 2]['volume'], df[df['cluster'] == 2]['market_cap'], s=5, color='yellow')\n",
    "plt.scatter(df[df['cluster'] == 3]['volume'], df[df['cluster'] == 3]['market_cap'], s=5, color='purple')\n",
    "# plt.scatter(df[df['cluster'] == 5]['volume'], df[df['cluster'] == 5]['market_cap'], s=5, color='pink')\n"
   ]
  },
  {
   "cell_type": "markdown",
   "metadata": {},
   "source": [
    "# Part 2"
   ]
  },
  {
   "cell_type": "code",
   "execution_count": 13,
   "metadata": {},
   "outputs": [],
   "source": [
    "df2 = pd.read_csv('coins_data.xlsx - Sheet1.csv')"
   ]
  },
  {
   "cell_type": "code",
   "execution_count": 14,
   "metadata": {},
   "outputs": [
    {
     "data": {
      "text/html": [
       "<div>\n",
       "<style scoped>\n",
       "    .dataframe tbody tr th:only-of-type {\n",
       "        vertical-align: middle;\n",
       "    }\n",
       "\n",
       "    .dataframe tbody tr th {\n",
       "        vertical-align: top;\n",
       "    }\n",
       "\n",
       "    .dataframe thead th {\n",
       "        text-align: right;\n",
       "    }\n",
       "</style>\n",
       "<table border=\"1\" class=\"dataframe\">\n",
       "  <thead>\n",
       "    <tr style=\"text-align: right;\">\n",
       "      <th></th>\n",
       "      <th>Symbol</th>\n",
       "      <th>Volume</th>\n",
       "      <th>MarketCap</th>\n",
       "      <th>TotalSupply</th>\n",
       "      <th>ProofType</th>\n",
       "      <th>Network</th>\n",
       "    </tr>\n",
       "  </thead>\n",
       "  <tbody>\n",
       "    <tr>\n",
       "      <th>0</th>\n",
       "      <td>LEO</td>\n",
       "      <td>1.823284e+06</td>\n",
       "      <td>3586504072</td>\n",
       "      <td>985,239,504</td>\n",
       "      <td>PoS</td>\n",
       "      <td>Ethereum</td>\n",
       "    </tr>\n",
       "    <tr>\n",
       "      <th>1</th>\n",
       "      <td>UNI</td>\n",
       "      <td>9.918768e+07</td>\n",
       "      <td>3992451215</td>\n",
       "      <td>1,000,000,000</td>\n",
       "      <td>PoS</td>\n",
       "      <td>Ethereum</td>\n",
       "    </tr>\n",
       "    <tr>\n",
       "      <th>2</th>\n",
       "      <td>WBTC</td>\n",
       "      <td>1.415410e+08</td>\n",
       "      <td>4237575489</td>\n",
       "      <td>163,106</td>\n",
       "      <td>PoW</td>\n",
       "      <td>Ethereum</td>\n",
       "    </tr>\n",
       "    <tr>\n",
       "      <th>3</th>\n",
       "      <td>AVAX</td>\n",
       "      <td>2.197065e+08</td>\n",
       "      <td>4901630273</td>\n",
       "      <td>431,804,080</td>\n",
       "      <td>PoS</td>\n",
       "      <td>Avalanche</td>\n",
       "    </tr>\n",
       "    <tr>\n",
       "      <th>4</th>\n",
       "      <td>DAI</td>\n",
       "      <td>2.177113e+08</td>\n",
       "      <td>5513660644</td>\n",
       "      <td>5,347,888,596</td>\n",
       "      <td>stablecoin</td>\n",
       "      <td>Ethereum</td>\n",
       "    </tr>\n",
       "    <tr>\n",
       "      <th>5</th>\n",
       "      <td>SHIB</td>\n",
       "      <td>2.479944e+08</td>\n",
       "      <td>5606251419</td>\n",
       "      <td>589,589,040,239,380</td>\n",
       "      <td>PoS</td>\n",
       "      <td>Ethereum</td>\n",
       "    </tr>\n",
       "    <tr>\n",
       "      <th>6</th>\n",
       "      <td>LTC</td>\n",
       "      <td>5.913019e+08</td>\n",
       "      <td>5729295460</td>\n",
       "      <td>84,000,000</td>\n",
       "      <td>PoW</td>\n",
       "      <td>Litecoin</td>\n",
       "    </tr>\n",
       "    <tr>\n",
       "      <th>7</th>\n",
       "      <td>TRX</td>\n",
       "      <td>2.719028e+08</td>\n",
       "      <td>6018922345</td>\n",
       "      <td>88,996,805,683</td>\n",
       "      <td>PoS</td>\n",
       "      <td>Tron</td>\n",
       "    </tr>\n",
       "    <tr>\n",
       "      <th>8</th>\n",
       "      <td>DOT</td>\n",
       "      <td>2.035592e+08</td>\n",
       "      <td>6659549868</td>\n",
       "      <td>1,364,182,225</td>\n",
       "      <td>PoW</td>\n",
       "      <td>Polkadot</td>\n",
       "    </tr>\n",
       "    <tr>\n",
       "      <th>9</th>\n",
       "      <td>MATIC</td>\n",
       "      <td>4.232990e+08</td>\n",
       "      <td>8053184610</td>\n",
       "      <td>10,000,000,000</td>\n",
       "      <td>PoS</td>\n",
       "      <td>Polygon</td>\n",
       "    </tr>\n",
       "    <tr>\n",
       "      <th>10</th>\n",
       "      <td>SOL</td>\n",
       "      <td>6.338963e+08</td>\n",
       "      <td>8349992848</td>\n",
       "      <td>559,509,636</td>\n",
       "      <td>PoH</td>\n",
       "      <td>Solana</td>\n",
       "    </tr>\n",
       "    <tr>\n",
       "      <th>11</th>\n",
       "      <td>DOGE</td>\n",
       "      <td>6.311493e+08</td>\n",
       "      <td>10342393982</td>\n",
       "      <td>141,339,436,384</td>\n",
       "      <td>PoW</td>\n",
       "      <td>Dogecoin</td>\n",
       "    </tr>\n",
       "    <tr>\n",
       "      <th>12</th>\n",
       "      <td>ADA</td>\n",
       "      <td>3.647996e+08</td>\n",
       "      <td>12109137813</td>\n",
       "      <td>36,244,287,753</td>\n",
       "      <td>PoS</td>\n",
       "      <td>Cardano</td>\n",
       "    </tr>\n",
       "    <tr>\n",
       "      <th>13</th>\n",
       "      <td>BUSD</td>\n",
       "      <td>5.084396e+09</td>\n",
       "      <td>12132993575</td>\n",
       "      <td>2,213,836,281</td>\n",
       "      <td>stablecoin</td>\n",
       "      <td>Binance Smart Chain</td>\n",
       "    </tr>\n",
       "    <tr>\n",
       "      <th>14</th>\n",
       "      <td>XRP</td>\n",
       "      <td>1.349225e+09</td>\n",
       "      <td>23581660945</td>\n",
       "      <td>99,988,380,689</td>\n",
       "      <td>RPCA</td>\n",
       "      <td>XRP Ledger</td>\n",
       "    </tr>\n",
       "    <tr>\n",
       "      <th>15</th>\n",
       "      <td>USDC</td>\n",
       "      <td>3.665726e+09</td>\n",
       "      <td>37317414284</td>\n",
       "      <td>25,540,319,537</td>\n",
       "      <td>stablecoin</td>\n",
       "      <td>Ethereum</td>\n",
       "    </tr>\n",
       "    <tr>\n",
       "      <th>16</th>\n",
       "      <td>BNB</td>\n",
       "      <td>6.807966e+08</td>\n",
       "      <td>44599661514</td>\n",
       "      <td>153,845,639</td>\n",
       "      <td>PoS</td>\n",
       "      <td>Binance Smart Chain</td>\n",
       "    </tr>\n",
       "    <tr>\n",
       "      <th>17</th>\n",
       "      <td>USDT</td>\n",
       "      <td>3.314948e+10</td>\n",
       "      <td>74588184814</td>\n",
       "      <td>866,300,000.00</td>\n",
       "      <td>stablecoin</td>\n",
       "      <td>Ethereum</td>\n",
       "    </tr>\n",
       "    <tr>\n",
       "      <th>18</th>\n",
       "      <td>ETH</td>\n",
       "      <td>8.843689e+09</td>\n",
       "      <td>196082390477</td>\n",
       "      <td>120,249,203</td>\n",
       "      <td>PoS</td>\n",
       "      <td>Ethereum</td>\n",
       "    </tr>\n",
       "    <tr>\n",
       "      <th>19</th>\n",
       "      <td>BTC</td>\n",
       "      <td>2.296764e+10</td>\n",
       "      <td>459083734664</td>\n",
       "      <td>19,508,418</td>\n",
       "      <td>PoW</td>\n",
       "      <td>Bitcoin</td>\n",
       "    </tr>\n",
       "  </tbody>\n",
       "</table>\n",
       "</div>"
      ],
      "text/plain": [
       "   Symbol        Volume     MarketCap          TotalSupply   ProofType  \\\n",
       "0     LEO  1.823284e+06    3586504072          985,239,504         PoS   \n",
       "1     UNI  9.918768e+07    3992451215        1,000,000,000         PoS   \n",
       "2    WBTC  1.415410e+08    4237575489              163,106         PoW   \n",
       "3    AVAX  2.197065e+08    4901630273          431,804,080         PoS   \n",
       "4     DAI  2.177113e+08    5513660644        5,347,888,596  stablecoin   \n",
       "5    SHIB  2.479944e+08    5606251419  589,589,040,239,380         PoS   \n",
       "6     LTC  5.913019e+08    5729295460           84,000,000         PoW   \n",
       "7     TRX  2.719028e+08    6018922345       88,996,805,683         PoS   \n",
       "8     DOT  2.035592e+08    6659549868        1,364,182,225         PoW   \n",
       "9   MATIC  4.232990e+08    8053184610       10,000,000,000         PoS   \n",
       "10    SOL  6.338963e+08    8349992848          559,509,636         PoH   \n",
       "11   DOGE  6.311493e+08   10342393982      141,339,436,384         PoW   \n",
       "12    ADA  3.647996e+08   12109137813       36,244,287,753         PoS   \n",
       "13   BUSD  5.084396e+09   12132993575        2,213,836,281  stablecoin   \n",
       "14    XRP  1.349225e+09   23581660945       99,988,380,689        RPCA   \n",
       "15   USDC  3.665726e+09   37317414284       25,540,319,537  stablecoin   \n",
       "16    BNB  6.807966e+08   44599661514          153,845,639         PoS   \n",
       "17   USDT  3.314948e+10   74588184814       866,300,000.00  stablecoin   \n",
       "18    ETH  8.843689e+09  196082390477          120,249,203         PoS   \n",
       "19    BTC  2.296764e+10  459083734664           19,508,418         PoW   \n",
       "\n",
       "                Network  \n",
       "0              Ethereum  \n",
       "1              Ethereum  \n",
       "2              Ethereum  \n",
       "3             Avalanche  \n",
       "4              Ethereum  \n",
       "5              Ethereum  \n",
       "6              Litecoin  \n",
       "7                  Tron  \n",
       "8              Polkadot  \n",
       "9               Polygon  \n",
       "10               Solana  \n",
       "11             Dogecoin  \n",
       "12              Cardano  \n",
       "13  Binance Smart Chain  \n",
       "14           XRP Ledger  \n",
       "15             Ethereum  \n",
       "16  Binance Smart Chain  \n",
       "17             Ethereum  \n",
       "18             Ethereum  \n",
       "19              Bitcoin  "
      ]
     },
     "execution_count": 14,
     "metadata": {},
     "output_type": "execute_result"
    }
   ],
   "source": [
    "df2"
   ]
  },
  {
   "cell_type": "code",
   "execution_count": 15,
   "metadata": {},
   "outputs": [
    {
     "data": {
      "text/plain": [
       "<matplotlib.collections.PathCollection at 0x2019def6e50>"
      ]
     },
     "execution_count": 15,
     "metadata": {},
     "output_type": "execute_result"
    },
    {
     "data": {
      "image/png": "[encoded data removed]",
      "text/plain": [
       "<Figure size 432x288 with 1 Axes>"
      ]
     },
     "metadata": {
      "needs_background": "light"
     },
     "output_type": "display_data"
    }
   ],
   "source": [
    "plt.scatter(df2['MarketCap'], df2['Volume'])"
   ]
  },
  {
   "cell_type": "code",
   "execution_count": 16,
   "metadata": {},
   "outputs": [],
   "source": [
    "from sklearn.preprocessing import StandardScaler\n",
    "\n",
    "scaler = StandardScaler()\n",
    "df2[['Volume','MarketCap']] = scaler.fit_transform(df2[['Volume','MarketCap']])"
   ]
  },
  {
   "cell_type": "code",
   "execution_count": 17,
   "metadata": {},
   "outputs": [
    {
     "data": {
      "text/plain": [
       "<matplotlib.collections.PathCollection at 0x2019df73910>"
      ]
     },
     "execution_count": 17,
     "metadata": {},
     "output_type": "execute_result"
    },
    {
     "data": {
      "image/png": "[encoded data removed]",
      "text/plain": [
       "<Figure size 432x288 with 1 Axes>"
      ]
     },
     "metadata": {
      "needs_background": "light"
     },
     "output_type": "display_data"
    }
   ],
   "source": [
    "import numpy as np\n",
    "from scipy.spatial.distance import pdist, squareform\n",
    "from scipy.cluster.hierarchy import linkage, dendrogram, fcluster\n",
    "import matplotlib.pyplot as plt\n",
    "\n",
    "# pairwise distances between data points\n",
    "distances = pdist(df2[['MarketCap', 'Volume']], metric='euclidean')\n",
    "square_distances = squareform(distances)\n",
    "plt.scatter(df2['MarketCap'], df2['Volume'])"
   ]
  },
  {
   "cell_type": "code",
   "execution_count": 18,
   "metadata": {},
   "outputs": [],
   "source": [
    "condensed_distances = squareform(square_distances)\n",
    "linkage_matrix = linkage(condensed_distances, method='average')"
   ]
  },
  {
   "cell_type": "code",
   "execution_count": 19,
   "metadata": {},
   "outputs": [
    {
     "data": {
      "image/png": "[encoded data removed]",
      "text/plain": [
       "<Figure size 432x288 with 1 Axes>"
      ]
     },
     "metadata": {
      "needs_background": "light"
     },
     "output_type": "display_data"
    }
   ],
   "source": [
    "dendrogram(linkage_matrix, labels=df2.index)\n",
    "plt.xlabel('index')\n",
    "plt.ylabel('distance')\n",
    "plt.title('hierarchical clustering dendrogram')\n",
    "plt.show()"
   ]
  },
  {
   "cell_type": "code",
   "execution_count": 20,
   "metadata": {},
   "outputs": [
    {
     "name": "stdout",
     "output_type": "stream",
     "text": [
      "[1 1 1 1 1 1 1 1 1 1 1 1 1 1 1 1 1 1 1 2]\n"
     ]
    },
    {
     "data": {
      "image/png": "[encoded data removed]",
      "text/plain": [
       "<Figure size 720x360 with 1 Axes>"
      ]
     },
     "metadata": {
      "needs_background": "light"
     },
     "output_type": "display_data"
    }
   ],
   "source": [
    "cluster_assignments = fcluster(linkage_matrix, t=4, criterion='distance')\n",
    "print(cluster_assignments)\n",
    "df2['Cluster'] = cluster_assignments\n",
    "#plot the clusters\n",
    "plt.figure(figsize=(10, 5))\n",
    "plt.scatter(df2[df2['Cluster'] == 2]['Volume'], df2[df2['Cluster'] == 2]['MarketCap'], s=20, color='green' , label=df2.iloc[-1]['Symbol'])\n",
    "plt.scatter(df2[df2['Cluster'] == 1]['Volume'], df2[df2['Cluster'] == 1]['MarketCap'], s=20, color='blue' , label='Others')\n",
    "plt.grid(True)\n",
    "plt.legend()\n",
    "df2.drop('Cluster' , axis=1, inplace=True)"
   ]
  },
  {
   "cell_type": "code",
   "execution_count": 21,
   "metadata": {},
   "outputs": [
    {
     "data": {
      "text/plain": [
       "Index(['Symbol', 'Volume', 'MarketCap', 'TotalSupply', 'ProofType', 'Network'], dtype='object')"
      ]
     },
     "execution_count": 21,
     "metadata": {},
     "output_type": "execute_result"
    }
   ],
   "source": [
    "df2.columns"
   ]
  },
  {
   "cell_type": "code",
   "execution_count": 22,
   "metadata": {},
   "outputs": [],
   "source": [
    "# #make a 3d plot for volume, market cap and prooftype\n",
    "# from mpl_toolkits.mplot3d import Axes3D\n",
    "# fig = plt.figure(figsize=(15, 10))\n",
    "# ax = fig.add_subplot(111, projection='3d')\n",
    "# ax.scatter(df2['Volume'], df2['MarketCap'], df2['ProofType'], s=5)\n",
    "# ax.set_xlabel('Volume')\n",
    "# ax.set_ylabel('Market Cap')\n",
    "# ax.set_zlabel('ProofType')\n",
    "# plt.show()\n"
   ]
  },
  {
   "cell_type": "code",
   "execution_count": 23,
   "metadata": {},
   "outputs": [],
   "source": [
    "# now cluster based on volume, market cap and proof type using dendogram\n",
    "from sklearn.preprocessing import LabelEncoder\n",
    "encoder = LabelEncoder()\n",
    "df2['ProofType'] = encoder.fit_transform(df2['ProofType'])"
   ]
  },
  {
   "cell_type": "code",
   "execution_count": 24,
   "metadata": {},
   "outputs": [
    {
     "data": {
      "image/png": "[encoded data removed]",
      "text/plain": [
       "<Figure size 432x288 with 1 Axes>"
      ]
     },
     "metadata": {
      "needs_background": "light"
     },
     "output_type": "display_data"
    }
   ],
   "source": [
    "# now do the clustering\n",
    "distances = pdist(df2[['MarketCap', 'Volume', 'ProofType']], metric='euclidean')\n",
    "square_distances = squareform(distances)\n",
    "# plt.scatter(df2['MarketCap'], df2['Volume'])\n",
    "condensed_distances = squareform(square_distances)\n",
    "linkage_matrix = linkage(condensed_distances, method='average')\n",
    "dendrogram(linkage_matrix, labels=df2.index)\n",
    "plt.xlabel('index')\n",
    "plt.ylabel('distance')\n",
    "plt.title('hierarchical clustering dendrogram')\n",
    "plt.show()"
   ]
  },
  {
   "cell_type": "markdown",
   "metadata": {},
   "source": [
    "# Part 3"
   ]
  },
  {
   "cell_type": "code",
   "execution_count": 63,
   "metadata": {},
   "outputs": [
    {
     "name": "stdout",
     "output_type": "stream",
     "text": [
      "[*********************100%%**********************]  1 of 1 completed\n"
     ]
    }
   ],
   "source": [
    "import yfinance as yf\n",
    "xmr = yf.Ticker(\"XMR-USD\")\n",
    "df_xmr = yf.download(tickers = \"XMR-USD\",\n",
    "                     period = \"max\",\n",
    "                     interval = \"1d\")"
   ]
  },
  {
   "cell_type": "code",
   "execution_count": 64,
   "metadata": {},
   "outputs": [],
   "source": [
    "df_xmr.drop('Adj Close' , axis=1 , inplace=True)"
   ]
  },
  {
   "cell_type": "code",
   "execution_count": 65,
   "metadata": {},
   "outputs": [
    {
     "data": {
      "text/html": [
       "<div>\n",
       "<style scoped>\n",
       "    .dataframe tbody tr th:only-of-type {\n",
       "        vertical-align: middle;\n",
       "    }\n",
       "\n",
       "    .dataframe tbody tr th {\n",
       "        vertical-align: top;\n",
       "    }\n",
       "\n",
       "    .dataframe thead th {\n",
       "        text-align: right;\n",
       "    }\n",
       "</style>\n",
       "<table border=\"1\" class=\"dataframe\">\n",
       "  <thead>\n",
       "    <tr style=\"text-align: right;\">\n",
       "      <th></th>\n",
       "      <th>Open</th>\n",
       "      <th>High</th>\n",
       "      <th>Low</th>\n",
       "      <th>Close</th>\n",
       "      <th>Volume</th>\n",
       "    </tr>\n",
       "    <tr>\n",
       "      <th>Date</th>\n",
       "      <th></th>\n",
       "      <th></th>\n",
       "      <th></th>\n",
       "      <th></th>\n",
       "      <th></th>\n",
       "    </tr>\n",
       "  </thead>\n",
       "  <tbody>\n",
       "    <tr>\n",
       "      <th>2017-11-09</th>\n",
       "      <td>112.531998</td>\n",
       "      <td>123.404999</td>\n",
       "      <td>112.219002</td>\n",
       "      <td>120.779999</td>\n",
       "      <td>86864600</td>\n",
       "    </tr>\n",
       "    <tr>\n",
       "      <th>2017-11-10</th>\n",
       "      <td>121.344002</td>\n",
       "      <td>121.665001</td>\n",
       "      <td>101.757004</td>\n",
       "      <td>105.585999</td>\n",
       "      <td>84614000</td>\n",
       "    </tr>\n",
       "    <tr>\n",
       "      <th>2017-11-11</th>\n",
       "      <td>105.750000</td>\n",
       "      <td>127.106003</td>\n",
       "      <td>103.877998</td>\n",
       "      <td>119.615997</td>\n",
       "      <td>107708000</td>\n",
       "    </tr>\n",
       "    <tr>\n",
       "      <th>2017-11-12</th>\n",
       "      <td>119.597000</td>\n",
       "      <td>133.675003</td>\n",
       "      <td>110.617996</td>\n",
       "      <td>123.856003</td>\n",
       "      <td>144948000</td>\n",
       "    </tr>\n",
       "    <tr>\n",
       "      <th>2017-11-13</th>\n",
       "      <td>128.960007</td>\n",
       "      <td>136.528000</td>\n",
       "      <td>120.921997</td>\n",
       "      <td>123.402000</td>\n",
       "      <td>116200000</td>\n",
       "    </tr>\n",
       "    <tr>\n",
       "      <th>...</th>\n",
       "      <td>...</td>\n",
       "      <td>...</td>\n",
       "      <td>...</td>\n",
       "      <td>...</td>\n",
       "      <td>...</td>\n",
       "    </tr>\n",
       "    <tr>\n",
       "      <th>2023-10-11</th>\n",
       "      <td>152.220093</td>\n",
       "      <td>153.929443</td>\n",
       "      <td>150.970428</td>\n",
       "      <td>153.842102</td>\n",
       "      <td>61162383</td>\n",
       "    </tr>\n",
       "    <tr>\n",
       "      <th>2023-10-12</th>\n",
       "      <td>153.852783</td>\n",
       "      <td>154.344238</td>\n",
       "      <td>151.021347</td>\n",
       "      <td>152.341812</td>\n",
       "      <td>65445853</td>\n",
       "    </tr>\n",
       "    <tr>\n",
       "      <th>2023-10-13</th>\n",
       "      <td>152.339523</td>\n",
       "      <td>154.368774</td>\n",
       "      <td>151.051971</td>\n",
       "      <td>153.590515</td>\n",
       "      <td>51282283</td>\n",
       "    </tr>\n",
       "    <tr>\n",
       "      <th>2023-10-14</th>\n",
       "      <td>153.583801</td>\n",
       "      <td>154.282990</td>\n",
       "      <td>151.850967</td>\n",
       "      <td>152.833160</td>\n",
       "      <td>33344438</td>\n",
       "    </tr>\n",
       "    <tr>\n",
       "      <th>2023-10-15</th>\n",
       "      <td>152.780731</td>\n",
       "      <td>153.465881</td>\n",
       "      <td>152.175125</td>\n",
       "      <td>152.710388</td>\n",
       "      <td>29251742</td>\n",
       "    </tr>\n",
       "  </tbody>\n",
       "</table>\n",
       "<p>2167 rows × 5 columns</p>\n",
       "</div>"
      ],
      "text/plain": [
       "                  Open        High         Low       Close     Volume\n",
       "Date                                                                 \n",
       "2017-11-09  112.531998  123.404999  112.219002  120.779999   86864600\n",
       "2017-11-10  121.344002  121.665001  101.757004  105.585999   84614000\n",
       "2017-11-11  105.750000  127.106003  103.877998  119.615997  107708000\n",
       "2017-11-12  119.597000  133.675003  110.617996  123.856003  144948000\n",
       "2017-11-13  128.960007  136.528000  120.921997  123.402000  116200000\n",
       "...                ...         ...         ...         ...        ...\n",
       "2023-10-11  152.220093  153.929443  150.970428  153.842102   61162383\n",
       "2023-10-12  153.852783  154.344238  151.021347  152.341812   65445853\n",
       "2023-10-13  152.339523  154.368774  151.051971  153.590515   51282283\n",
       "2023-10-14  153.583801  154.282990  151.850967  152.833160   33344438\n",
       "2023-10-15  152.780731  153.465881  152.175125  152.710388   29251742\n",
       "\n",
       "[2167 rows x 5 columns]"
      ]
     },
     "execution_count": 65,
     "metadata": {},
     "output_type": "execute_result"
    }
   ],
   "source": [
    "df_xmr"
   ]
  },
  {
   "cell_type": "code",
   "execution_count": 66,
   "metadata": {},
   "outputs": [],
   "source": [
    "# from sklearn.preprocessing import StandardScaler\n",
    "# scaler = StandardScaler()\n",
    "# df_xmr[['Open','High','Low','Close','Volume']] = scaler.fit_transform(df_xmr[['Open','High','Low','Close','Volume']])"
   ]
  },
  {
   "cell_type": "code",
   "execution_count": 67,
   "metadata": {},
   "outputs": [],
   "source": [
    "df_xmr['Label'] = (df_xmr['Close'] > df_xmr['Close'].shift(1)).astype(int)"
   ]
  },
  {
   "cell_type": "code",
   "execution_count": 68,
   "metadata": {},
   "outputs": [
    {
     "data": {
      "text/html": [
       "<div>\n",
       "<style scoped>\n",
       "    .dataframe tbody tr th:only-of-type {\n",
       "        vertical-align: middle;\n",
       "    }\n",
       "\n",
       "    .dataframe tbody tr th {\n",
       "        vertical-align: top;\n",
       "    }\n",
       "\n",
       "    .dataframe thead th {\n",
       "        text-align: right;\n",
       "    }\n",
       "</style>\n",
       "<table border=\"1\" class=\"dataframe\">\n",
       "  <thead>\n",
       "    <tr style=\"text-align: right;\">\n",
       "      <th></th>\n",
       "      <th>Close</th>\n",
       "      <th>Volume</th>\n",
       "      <th>Label</th>\n",
       "    </tr>\n",
       "    <tr>\n",
       "      <th>Date</th>\n",
       "      <th></th>\n",
       "      <th></th>\n",
       "      <th></th>\n",
       "    </tr>\n",
       "  </thead>\n",
       "  <tbody>\n",
       "    <tr>\n",
       "      <th>2017-11-09</th>\n",
       "      <td>120.779999</td>\n",
       "      <td>86864600</td>\n",
       "      <td>0</td>\n",
       "    </tr>\n",
       "    <tr>\n",
       "      <th>2017-11-10</th>\n",
       "      <td>105.585999</td>\n",
       "      <td>84614000</td>\n",
       "      <td>0</td>\n",
       "    </tr>\n",
       "    <tr>\n",
       "      <th>2017-11-11</th>\n",
       "      <td>119.615997</td>\n",
       "      <td>107708000</td>\n",
       "      <td>1</td>\n",
       "    </tr>\n",
       "    <tr>\n",
       "      <th>2017-11-12</th>\n",
       "      <td>123.856003</td>\n",
       "      <td>144948000</td>\n",
       "      <td>1</td>\n",
       "    </tr>\n",
       "    <tr>\n",
       "      <th>2017-11-13</th>\n",
       "      <td>123.402000</td>\n",
       "      <td>116200000</td>\n",
       "      <td>0</td>\n",
       "    </tr>\n",
       "    <tr>\n",
       "      <th>...</th>\n",
       "      <td>...</td>\n",
       "      <td>...</td>\n",
       "      <td>...</td>\n",
       "    </tr>\n",
       "    <tr>\n",
       "      <th>2023-10-11</th>\n",
       "      <td>153.842102</td>\n",
       "      <td>61162383</td>\n",
       "      <td>1</td>\n",
       "    </tr>\n",
       "    <tr>\n",
       "      <th>2023-10-12</th>\n",
       "      <td>152.341812</td>\n",
       "      <td>65445853</td>\n",
       "      <td>0</td>\n",
       "    </tr>\n",
       "    <tr>\n",
       "      <th>2023-10-13</th>\n",
       "      <td>153.590515</td>\n",
       "      <td>51282283</td>\n",
       "      <td>1</td>\n",
       "    </tr>\n",
       "    <tr>\n",
       "      <th>2023-10-14</th>\n",
       "      <td>152.833160</td>\n",
       "      <td>33344438</td>\n",
       "      <td>0</td>\n",
       "    </tr>\n",
       "    <tr>\n",
       "      <th>2023-10-15</th>\n",
       "      <td>152.710388</td>\n",
       "      <td>29251742</td>\n",
       "      <td>0</td>\n",
       "    </tr>\n",
       "  </tbody>\n",
       "</table>\n",
       "<p>2167 rows × 3 columns</p>\n",
       "</div>"
      ],
      "text/plain": [
       "                 Close     Volume  Label\n",
       "Date                                    \n",
       "2017-11-09  120.779999   86864600      0\n",
       "2017-11-10  105.585999   84614000      0\n",
       "2017-11-11  119.615997  107708000      1\n",
       "2017-11-12  123.856003  144948000      1\n",
       "2017-11-13  123.402000  116200000      0\n",
       "...                ...        ...    ...\n",
       "2023-10-11  153.842102   61162383      1\n",
       "2023-10-12  152.341812   65445853      0\n",
       "2023-10-13  153.590515   51282283      1\n",
       "2023-10-14  152.833160   33344438      0\n",
       "2023-10-15  152.710388   29251742      0\n",
       "\n",
       "[2167 rows x 3 columns]"
      ]
     },
     "execution_count": 68,
     "metadata": {},
     "output_type": "execute_result"
    }
   ],
   "source": [
    "df_xmr[['Close','Volume','Label']]"
   ]
  },
  {
   "cell_type": "code",
   "execution_count": 69,
   "metadata": {},
   "outputs": [
    {
     "data": {
      "text/html": [
       "<div>\n",
       "<style scoped>\n",
       "    .dataframe tbody tr th:only-of-type {\n",
       "        vertical-align: middle;\n",
       "    }\n",
       "\n",
       "    .dataframe tbody tr th {\n",
       "        vertical-align: top;\n",
       "    }\n",
       "\n",
       "    .dataframe thead th {\n",
       "        text-align: right;\n",
       "    }\n",
       "</style>\n",
       "<table border=\"1\" class=\"dataframe\">\n",
       "  <thead>\n",
       "    <tr style=\"text-align: right;\">\n",
       "      <th></th>\n",
       "      <th>Open</th>\n",
       "      <th>High</th>\n",
       "      <th>Low</th>\n",
       "      <th>Close</th>\n",
       "      <th>Volume</th>\n",
       "      <th>Label</th>\n",
       "    </tr>\n",
       "    <tr>\n",
       "      <th>Date</th>\n",
       "      <th></th>\n",
       "      <th></th>\n",
       "      <th></th>\n",
       "      <th></th>\n",
       "      <th></th>\n",
       "      <th></th>\n",
       "    </tr>\n",
       "  </thead>\n",
       "  <tbody>\n",
       "    <tr>\n",
       "      <th>2017-11-09</th>\n",
       "      <td>112.531998</td>\n",
       "      <td>123.404999</td>\n",
       "      <td>112.219002</td>\n",
       "      <td>120.779999</td>\n",
       "      <td>86864600</td>\n",
       "      <td>0</td>\n",
       "    </tr>\n",
       "    <tr>\n",
       "      <th>2017-11-10</th>\n",
       "      <td>121.344002</td>\n",
       "      <td>121.665001</td>\n",
       "      <td>101.757004</td>\n",
       "      <td>105.585999</td>\n",
       "      <td>84614000</td>\n",
       "      <td>0</td>\n",
       "    </tr>\n",
       "    <tr>\n",
       "      <th>2017-11-11</th>\n",
       "      <td>105.750000</td>\n",
       "      <td>127.106003</td>\n",
       "      <td>103.877998</td>\n",
       "      <td>119.615997</td>\n",
       "      <td>107708000</td>\n",
       "      <td>1</td>\n",
       "    </tr>\n",
       "    <tr>\n",
       "      <th>2017-11-12</th>\n",
       "      <td>119.597000</td>\n",
       "      <td>133.675003</td>\n",
       "      <td>110.617996</td>\n",
       "      <td>123.856003</td>\n",
       "      <td>144948000</td>\n",
       "      <td>1</td>\n",
       "    </tr>\n",
       "    <tr>\n",
       "      <th>2017-11-13</th>\n",
       "      <td>128.960007</td>\n",
       "      <td>136.528000</td>\n",
       "      <td>120.921997</td>\n",
       "      <td>123.402000</td>\n",
       "      <td>116200000</td>\n",
       "      <td>0</td>\n",
       "    </tr>\n",
       "    <tr>\n",
       "      <th>...</th>\n",
       "      <td>...</td>\n",
       "      <td>...</td>\n",
       "      <td>...</td>\n",
       "      <td>...</td>\n",
       "      <td>...</td>\n",
       "      <td>...</td>\n",
       "    </tr>\n",
       "    <tr>\n",
       "      <th>2023-10-11</th>\n",
       "      <td>152.220093</td>\n",
       "      <td>153.929443</td>\n",
       "      <td>150.970428</td>\n",
       "      <td>153.842102</td>\n",
       "      <td>61162383</td>\n",
       "      <td>1</td>\n",
       "    </tr>\n",
       "    <tr>\n",
       "      <th>2023-10-12</th>\n",
       "      <td>153.852783</td>\n",
       "      <td>154.344238</td>\n",
       "      <td>151.021347</td>\n",
       "      <td>152.341812</td>\n",
       "      <td>65445853</td>\n",
       "      <td>0</td>\n",
       "    </tr>\n",
       "    <tr>\n",
       "      <th>2023-10-13</th>\n",
       "      <td>152.339523</td>\n",
       "      <td>154.368774</td>\n",
       "      <td>151.051971</td>\n",
       "      <td>153.590515</td>\n",
       "      <td>51282283</td>\n",
       "      <td>1</td>\n",
       "    </tr>\n",
       "    <tr>\n",
       "      <th>2023-10-14</th>\n",
       "      <td>153.583801</td>\n",
       "      <td>154.282990</td>\n",
       "      <td>151.850967</td>\n",
       "      <td>152.833160</td>\n",
       "      <td>33344438</td>\n",
       "      <td>0</td>\n",
       "    </tr>\n",
       "    <tr>\n",
       "      <th>2023-10-15</th>\n",
       "      <td>152.780731</td>\n",
       "      <td>153.465881</td>\n",
       "      <td>152.175125</td>\n",
       "      <td>152.710388</td>\n",
       "      <td>29251742</td>\n",
       "      <td>0</td>\n",
       "    </tr>\n",
       "  </tbody>\n",
       "</table>\n",
       "<p>2167 rows × 6 columns</p>\n",
       "</div>"
      ],
      "text/plain": [
       "                  Open        High         Low       Close     Volume  Label\n",
       "Date                                                                        \n",
       "2017-11-09  112.531998  123.404999  112.219002  120.779999   86864600      0\n",
       "2017-11-10  121.344002  121.665001  101.757004  105.585999   84614000      0\n",
       "2017-11-11  105.750000  127.106003  103.877998  119.615997  107708000      1\n",
       "2017-11-12  119.597000  133.675003  110.617996  123.856003  144948000      1\n",
       "2017-11-13  128.960007  136.528000  120.921997  123.402000  116200000      0\n",
       "...                ...         ...         ...         ...        ...    ...\n",
       "2023-10-11  152.220093  153.929443  150.970428  153.842102   61162383      1\n",
       "2023-10-12  153.852783  154.344238  151.021347  152.341812   65445853      0\n",
       "2023-10-13  152.339523  154.368774  151.051971  153.590515   51282283      1\n",
       "2023-10-14  153.583801  154.282990  151.850967  152.833160   33344438      0\n",
       "2023-10-15  152.780731  153.465881  152.175125  152.710388   29251742      0\n",
       "\n",
       "[2167 rows x 6 columns]"
      ]
     },
     "execution_count": 69,
     "metadata": {},
     "output_type": "execute_result"
    }
   ],
   "source": [
    "df_xmr"
   ]
  },
  {
   "cell_type": "code",
   "execution_count": 70,
   "metadata": {},
   "outputs": [],
   "source": [
    "from sklearn.model_selection import train_test_split\n",
    "from sklearn.metrics import accuracy_score, classification_report , f1_score \n"
   ]
  },
  {
   "cell_type": "code",
   "execution_count": 83,
   "metadata": {},
   "outputs": [],
   "source": [
    "X = df_xmr.drop('Label' , axis=1)  # Features\n",
    "y = df_xmr['Label']  # Target variable\n"
   ]
  },
  {
   "cell_type": "code",
   "execution_count": 84,
   "metadata": {},
   "outputs": [
    {
     "data": {
      "text/plain": [
       "1    1135\n",
       "0    1032\n",
       "Name: Label, dtype: int64"
      ]
     },
     "execution_count": 84,
     "metadata": {},
     "output_type": "execute_result"
    }
   ],
   "source": [
    "df_xmr['Label'].value_counts()"
   ]
  },
  {
   "cell_type": "code",
   "execution_count": 85,
   "metadata": {},
   "outputs": [],
   "source": [
    "train_size = int(0.8 * len(X))\n",
    "\n",
    "X_train, X_test = X[:train_size], X[train_size:]\n",
    "y_train, y_test = y[:train_size], y[train_size:]"
   ]
  },
  {
   "cell_type": "code",
   "execution_count": 86,
   "metadata": {},
   "outputs": [
    {
     "data": {
      "text/html": [
       "<div>\n",
       "<style scoped>\n",
       "    .dataframe tbody tr th:only-of-type {\n",
       "        vertical-align: middle;\n",
       "    }\n",
       "\n",
       "    .dataframe tbody tr th {\n",
       "        vertical-align: top;\n",
       "    }\n",
       "\n",
       "    .dataframe thead th {\n",
       "        text-align: right;\n",
       "    }\n",
       "</style>\n",
       "<table border=\"1\" class=\"dataframe\">\n",
       "  <thead>\n",
       "    <tr style=\"text-align: right;\">\n",
       "      <th></th>\n",
       "      <th>Open</th>\n",
       "      <th>High</th>\n",
       "      <th>Low</th>\n",
       "      <th>Close</th>\n",
       "      <th>Volume</th>\n",
       "    </tr>\n",
       "    <tr>\n",
       "      <th>Date</th>\n",
       "      <th></th>\n",
       "      <th></th>\n",
       "      <th></th>\n",
       "      <th></th>\n",
       "      <th></th>\n",
       "    </tr>\n",
       "  </thead>\n",
       "  <tbody>\n",
       "    <tr>\n",
       "      <th>2017-11-09</th>\n",
       "      <td>112.531998</td>\n",
       "      <td>123.404999</td>\n",
       "      <td>112.219002</td>\n",
       "      <td>120.779999</td>\n",
       "      <td>86864600</td>\n",
       "    </tr>\n",
       "    <tr>\n",
       "      <th>2017-11-10</th>\n",
       "      <td>121.344002</td>\n",
       "      <td>121.665001</td>\n",
       "      <td>101.757004</td>\n",
       "      <td>105.585999</td>\n",
       "      <td>84614000</td>\n",
       "    </tr>\n",
       "    <tr>\n",
       "      <th>2017-11-11</th>\n",
       "      <td>105.750000</td>\n",
       "      <td>127.106003</td>\n",
       "      <td>103.877998</td>\n",
       "      <td>119.615997</td>\n",
       "      <td>107708000</td>\n",
       "    </tr>\n",
       "    <tr>\n",
       "      <th>2017-11-12</th>\n",
       "      <td>119.597000</td>\n",
       "      <td>133.675003</td>\n",
       "      <td>110.617996</td>\n",
       "      <td>123.856003</td>\n",
       "      <td>144948000</td>\n",
       "    </tr>\n",
       "    <tr>\n",
       "      <th>2017-11-13</th>\n",
       "      <td>128.960007</td>\n",
       "      <td>136.528000</td>\n",
       "      <td>120.921997</td>\n",
       "      <td>123.402000</td>\n",
       "      <td>116200000</td>\n",
       "    </tr>\n",
       "    <tr>\n",
       "      <th>...</th>\n",
       "      <td>...</td>\n",
       "      <td>...</td>\n",
       "      <td>...</td>\n",
       "      <td>...</td>\n",
       "      <td>...</td>\n",
       "    </tr>\n",
       "    <tr>\n",
       "      <th>2022-08-03</th>\n",
       "      <td>156.732437</td>\n",
       "      <td>163.797897</td>\n",
       "      <td>155.176514</td>\n",
       "      <td>156.669693</td>\n",
       "      <td>110358575</td>\n",
       "    </tr>\n",
       "    <tr>\n",
       "      <th>2022-08-04</th>\n",
       "      <td>156.678818</td>\n",
       "      <td>162.766830</td>\n",
       "      <td>156.370255</td>\n",
       "      <td>159.335571</td>\n",
       "      <td>105835155</td>\n",
       "    </tr>\n",
       "    <tr>\n",
       "      <th>2022-08-05</th>\n",
       "      <td>159.320786</td>\n",
       "      <td>162.173553</td>\n",
       "      <td>156.934479</td>\n",
       "      <td>161.642426</td>\n",
       "      <td>91510566</td>\n",
       "    </tr>\n",
       "    <tr>\n",
       "      <th>2022-08-06</th>\n",
       "      <td>161.637054</td>\n",
       "      <td>164.948090</td>\n",
       "      <td>160.334793</td>\n",
       "      <td>160.662857</td>\n",
       "      <td>85517741</td>\n",
       "    </tr>\n",
       "    <tr>\n",
       "      <th>2022-08-07</th>\n",
       "      <td>160.722305</td>\n",
       "      <td>170.978149</td>\n",
       "      <td>158.644333</td>\n",
       "      <td>164.789429</td>\n",
       "      <td>149742599</td>\n",
       "    </tr>\n",
       "  </tbody>\n",
       "</table>\n",
       "<p>1733 rows × 5 columns</p>\n",
       "</div>"
      ],
      "text/plain": [
       "                  Open        High         Low       Close     Volume\n",
       "Date                                                                 \n",
       "2017-11-09  112.531998  123.404999  112.219002  120.779999   86864600\n",
       "2017-11-10  121.344002  121.665001  101.757004  105.585999   84614000\n",
       "2017-11-11  105.750000  127.106003  103.877998  119.615997  107708000\n",
       "2017-11-12  119.597000  133.675003  110.617996  123.856003  144948000\n",
       "2017-11-13  128.960007  136.528000  120.921997  123.402000  116200000\n",
       "...                ...         ...         ...         ...        ...\n",
       "2022-08-03  156.732437  163.797897  155.176514  156.669693  110358575\n",
       "2022-08-04  156.678818  162.766830  156.370255  159.335571  105835155\n",
       "2022-08-05  159.320786  162.173553  156.934479  161.642426   91510566\n",
       "2022-08-06  161.637054  164.948090  160.334793  160.662857   85517741\n",
       "2022-08-07  160.722305  170.978149  158.644333  164.789429  149742599\n",
       "\n",
       "[1733 rows x 5 columns]"
      ]
     },
     "execution_count": 86,
     "metadata": {},
     "output_type": "execute_result"
    }
   ],
   "source": [
    "X_train"
   ]
  },
  {
   "cell_type": "code",
   "execution_count": 87,
   "metadata": {},
   "outputs": [
    {
     "data": {
      "text/html": [
       "<style>#sk-container-id-3 {color: black;}#sk-container-id-3 pre{padding: 0;}#sk-container-id-3 div.sk-toggleable {background-color: white;}#sk-container-id-3 label.sk-toggleable__label {cursor: pointer;display: block;width: 100%;margin-bottom: 0;padding: 0.3em;box-sizing: border-box;text-align: center;}#sk-container-id-3 label.sk-toggleable__label-arrow:before {content: \"▸\";float: left;margin-right: 0.25em;color: #696969;}#sk-container-id-3 label.sk-toggleable__label-arrow:hover:before {color: black;}#sk-container-id-3 div.sk-estimator:hover label.sk-toggleable__label-arrow:before {color: black;}#sk-container-id-3 div.sk-toggleable__content {max-height: 0;max-width: 0;overflow: hidden;text-align: left;background-color: #f0f8ff;}#sk-container-id-3 div.sk-toggleable__content pre {margin: 0.2em;color: black;border-radius: 0.25em;background-color: #f0f8ff;}#sk-container-id-3 input.sk-toggleable__control:checked~div.sk-toggleable__content {max-height: 200px;max-width: 100%;overflow: auto;}#sk-container-id-3 input.sk-toggleable__control:checked~label.sk-toggleable__label-arrow:before {content: \"▾\";}#sk-container-id-3 div.sk-estimator input.sk-toggleable__control:checked~label.sk-toggleable__label {background-color: #d4ebff;}#sk-container-id-3 div.sk-label input.sk-toggleable__control:checked~label.sk-toggleable__label {background-color: #d4ebff;}#sk-container-id-3 input.sk-hidden--visually {border: 0;clip: rect(1px 1px 1px 1px);clip: rect(1px, 1px, 1px, 1px);height: 1px;margin: -1px;overflow: hidden;padding: 0;position: absolute;width: 1px;}#sk-container-id-3 div.sk-estimator {font-family: monospace;background-color: #f0f8ff;border: 1px dotted black;border-radius: 0.25em;box-sizing: border-box;margin-bottom: 0.5em;}#sk-container-id-3 div.sk-estimator:hover {background-color: #d4ebff;}#sk-container-id-3 div.sk-parallel-item::after {content: \"\";width: 100%;border-bottom: 1px solid gray;flex-grow: 1;}#sk-container-id-3 div.sk-label:hover label.sk-toggleable__label {background-color: #d4ebff;}#sk-container-id-3 div.sk-serial::before {content: \"\";position: absolute;border-left: 1px solid gray;box-sizing: border-box;top: 0;bottom: 0;left: 50%;z-index: 0;}#sk-container-id-3 div.sk-serial {display: flex;flex-direction: column;align-items: center;background-color: white;padding-right: 0.2em;padding-left: 0.2em;position: relative;}#sk-container-id-3 div.sk-item {position: relative;z-index: 1;}#sk-container-id-3 div.sk-parallel {display: flex;align-items: stretch;justify-content: center;background-color: white;position: relative;}#sk-container-id-3 div.sk-item::before, #sk-container-id-3 div.sk-parallel-item::before {content: \"\";position: absolute;border-left: 1px solid gray;box-sizing: border-box;top: 0;bottom: 0;left: 50%;z-index: -1;}#sk-container-id-3 div.sk-parallel-item {display: flex;flex-direction: column;z-index: 1;position: relative;background-color: white;}#sk-container-id-3 div.sk-parallel-item:first-child::after {align-self: flex-end;width: 50%;}#sk-container-id-3 div.sk-parallel-item:last-child::after {align-self: flex-start;width: 50%;}#sk-container-id-3 div.sk-parallel-item:only-child::after {width: 0;}#sk-container-id-3 div.sk-dashed-wrapped {border: 1px dashed gray;margin: 0 0.4em 0.5em 0.4em;box-sizing: border-box;padding-bottom: 0.4em;background-color: white;}#sk-container-id-3 div.sk-label label {font-family: monospace;font-weight: bold;display: inline-block;line-height: 1.2em;}#sk-container-id-3 div.sk-label-container {text-align: center;}#sk-container-id-3 div.sk-container {/* jupyter's `normalize.less` sets `[hidden] { display: none; }` but bootstrap.min.css set `[hidden] { display: none !important; }` so we also need the `!important` here to be able to override the default hidden behavior on the sphinx rendered scikit-learn.org. See: https://github.com/scikit-learn/scikit-learn/issues/21755 */display: inline-block !important;position: relative;}#sk-container-id-3 div.sk-text-repr-fallback {display: none;}</style><div id=\"sk-container-id-3\" class=\"sk-top-container\"><div class=\"sk-text-repr-fallback\"><pre>LogisticRegression()</pre><b>In a Jupyter environment, please rerun this cell to show the HTML representation or trust the notebook. <br />On GitHub, the HTML representation is unable to render, please try loading this page with nbviewer.org.</b></div><div class=\"sk-container\" hidden><div class=\"sk-item\"><div class=\"sk-estimator sk-toggleable\"><input class=\"sk-toggleable__control sk-hidden--visually\" id=\"sk-estimator-id-3\" type=\"checkbox\" checked><label for=\"sk-estimator-id-3\" class=\"sk-toggleable__label sk-toggleable__label-arrow\">LogisticRegression</label><div class=\"sk-toggleable__content\"><pre>LogisticRegression()</pre></div></div></div></div></div>"
      ],
      "text/plain": [
       "LogisticRegression()"
      ]
     },
     "execution_count": 87,
     "metadata": {},
     "output_type": "execute_result"
    }
   ],
   "source": [
    "from sklearn.linear_model import LogisticRegression\n",
    "model = LogisticRegression()\n",
    "model.fit(X_train, y_train)"
   ]
  },
  {
   "cell_type": "code",
   "execution_count": 88,
   "metadata": {},
   "outputs": [
    {
     "name": "stdout",
     "output_type": "stream",
     "text": [
      "0.712166172106825\n"
     ]
    }
   ],
   "source": [
    "y_pred = model.predict(X_test)\n",
    "\n",
    "print(f1_score(y_test, y_pred))\n"
   ]
  },
  {
   "cell_type": "code",
   "execution_count": 90,
   "metadata": {},
   "outputs": [
    {
     "name": "stdout",
     "output_type": "stream",
     "text": [
      "Epoch 1/3\n",
      "55/55 [==============================] - 2s 7ms/step - loss: 6692753.5000 - recall_14: 0.5587 - val_loss: 162297.1406 - val_recall_14: 0.0000e+00\n",
      "Epoch 2/3\n",
      "55/55 [==============================] - 0s 4ms/step - loss: 3378598.2500 - recall_14: 0.5989 - val_loss: 784485.8750 - val_recall_14: 1.0000\n",
      "Epoch 3/3\n",
      "55/55 [==============================] - 0s 3ms/step - loss: 2676764.2500 - recall_14: 0.5877 - val_loss: 61596.3516 - val_recall_14: 0.0000e+00\n"
     ]
    },
    {
     "data": {
      "text/plain": [
       "<keras.src.callbacks.History at 0x201a8a28850>"
      ]
     },
     "execution_count": 90,
     "metadata": {},
     "output_type": "execute_result"
    }
   ],
   "source": [
    "# make nn model for this\n",
    "# add recall to the metric \n",
    "# add precision to the metric\n",
    "import tensorflow as tf\n",
    "recall = tf.keras.metrics.Recall()\n",
    "from tensorflow.keras.models import Sequential\n",
    "from tensorflow.keras.layers import Dense, Dropout, LSTM\n",
    "model = Sequential([\n",
    "    Dense(64, input_shape=(5,), activation='relu'),\n",
    "    Dense(64, activation='relu'),\n",
    "    Dropout(0.2),\n",
    "    Dense(1, activation='sigmoid')\n",
    "])\n",
    "model.compile(optimizer='adam', loss='binary_crossentropy', metrics=[recall])\n",
    "model.fit(X_train, y_train, epochs=3 , validation_data=(X_test, y_test))"
   ]
  },
  {
   "cell_type": "code",
   "execution_count": 91,
   "metadata": {},
   "outputs": [
    {
     "name": "stdout",
     "output_type": "stream",
     "text": [
      "14/14 [==============================] - 0s 2ms/step\n",
      "0.0\n"
     ]
    }
   ],
   "source": [
    "y_pred_nn = model.predict(X_test)\n",
    "y_pred_nn = np.round(y_pred_nn)\n",
    "print(f1_score(y_test, y_pred_nn))"
   ]
  }
 ],
 "metadata": {
  "kernelspec": {
   "display_name": "quera",
   "language": "python",
   "name": "python3"
  },
  "language_info": {
   "codemirror_mode": {
    "name": "ipython",
    "version": 3
   },
   "file_extension": ".py",
   "mimetype": "text/x-python",
   "name": "python",
   "nbconvert_exporter": "python",
   "pygments_lexer": "ipython3",
   "version": "3.9.0"
  }
 },
 "nbformat": 4,
 "nbformat_minor": 2
}
