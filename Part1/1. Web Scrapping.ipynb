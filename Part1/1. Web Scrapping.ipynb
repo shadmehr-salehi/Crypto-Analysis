{
 "cells": [
  {
   "cell_type": "markdown",
   "metadata": {},
   "source": [
    "<h1 align=center style=\"line-height:200%;font-family:vazir;color:#0099cc\">\n",
    "<font face=\"vazir\" color=\"#0099cc\">\n",
    " بخش اول: استخراج داده\n",
    "</font>\n",
    "</h1>\n",
    "\n",
    "<p dir=rtl style=\"direction: rtl;text-align: justify;line-height:200%;font-family:vazir;font-size:medium\">\n",
    "<font face=\"vazir\" size=3>\n",
    "در این پروژه به کار بر روی اطلاعات مرتبط با رمزارزها پرداخته خواهد شد و بدین منظور از داده‌های موجود در سایت CoinMarketCap استفاده خواهیم کرد. از آن‌جا که به دلیل داینامیک بودن صفحه‌ی نخست این وب‌سایت ممکن است استخراج داده‌ها از این صفحه با دشواری‌های بیشتری همراه باشد، قصد داریم از بخش تاریخچه‌ی آن استفاده کرده و اطلاعات رمزارزها را برای یک بازه‌ی زمانی مشخص استخراج کنیم.\n",
    "\n",
    "</font>\n",
    "</p>"
   ]
  },
  {
   "cell_type": "code",
   "execution_count": null,
   "metadata": {},
   "outputs": [],
   "source": [
    "import selenium\n",
    "from selenium import webdriver\n",
    "import time\n",
    "from bs4 import BeautifulSoup\n",
    "import pandas as pd\n",
    "from selenium.webdriver import Keys\n",
    "from selenium.webdriver.common.by import By\n",
    "import csv"
   ]
  },
  {
   "cell_type": "markdown",
   "metadata": {},
   "source": [
    "<p dir=rtl style=\"direction: rtl;text-align: justify;line-height:200%;font-family:vazir;font-size:medium\">\n",
    "<font face=\"vazir\" size=3>\n",
    "در این صفحه می‌توانید با انتخاب یک تاریخ مشخص، اطلاعات رمزارزها در آن روز را مشاهده کنید. ابتدا از شما می‌خواهیم لیست ۲۰۰ رمز ارز برتر (۲۰۰ سطر ابتدایی جدول) در تاریخ 2023/08/25 را استخراج کرده و داده‌های آن را به فرمت جدول آماده کنید.\n",
    "</font>\n",
    "</p>"
   ]
  },
  {
   "cell_type": "code",
   "execution_count": null,
   "metadata": {},
   "outputs": [],
   "source": [
    "driver = webdriver.Chrome()\n",
    "driver.get(\"https://coinmarketcap.com/historical/20230825/\")"
   ]
  },
  {
   "cell_type": "code",
   "execution_count": null,
   "metadata": {},
   "outputs": [],
   "source": [
    "num_scrolls = 30\n",
    "scroll_increment = 300  # Adjust the size of each scroll increment (in pixels)\n",
    "scroll_delay = 0.9 \n",
    "for _ in range(num_scrolls):\n",
    "    # Calculate the new scroll position\n",
    "    current_scroll_position = driver.execute_script(\"return window.scrollY;\")\n",
    "    new_scroll_position = current_scroll_position + scroll_increment\n",
    "\n",
    "    # Scroll to the new position\n",
    "    driver.execute_script(f\"window.scrollTo(0, {new_scroll_position});\")\n",
    "\n",
    "    # Wait for a short delay before the next scroll\n",
    "    time.sleep(scroll_delay)"
   ]
  },
  {
   "cell_type": "code",
   "execution_count": null,
   "metadata": {},
   "outputs": [],
   "source": [
    "page_source = driver.page_source\n",
    "soup = BeautifulSoup(page_source, 'html.parser')\n",
    "elements = soup.find_all('div', class_='cmc-table__table-wrapper-outer')\n",
    "div_element = elements[2]\n",
    "table = div_element.find('table')\n",
    "tbody = table.find('tbody')\n",
    "rows = tbody.find_all('tr')[0:200]"
   ]
  },
  {
   "cell_type": "code",
   "execution_count": null,
   "metadata": {},
   "outputs": [],
   "source": [
    "names = []\n",
    "ranks = []\n",
    "symbols = []\n",
    "market_caps = []\n",
    "prices = []\n",
    "Circulating_Supplies = []\n",
    "volumes = []\n",
    "main_links =[]\n",
    "historical_links = []\n",
    "\n",
    "for row in rows:\n",
    "    cells = row.find_all('td')\n",
    "    # print(cells)\n",
    "    rank = cells[0].text\n",
    "    ranks.append(rank)\n",
    "    \n",
    "    name = cells[1].findAll('a')[1].text\n",
    "    names.append(name)\n",
    "    \n",
    "    Symbol = cells[2].text\n",
    "    symbols.append(Symbol)\n",
    "    \n",
    "    Market_Cap = cells[3].text\n",
    "    market_caps.append(Market_Cap)\n",
    "    \n",
    "    Price = cells[4].text\n",
    "    prices.append(Price)\n",
    "    \n",
    "    # Circulating_Supply\t= cells[5].text\n",
    "    # Circulating_Supplies.append(Circulating_Supply)\n",
    "    \n",
    "    volume24h = cells[6].text\n",
    "    volumes.append(volume24h)\n",
    "    \n",
    "    href = row.find('a')['href']\n",
    "    main_link = f\"https://coinmarketcap.com{href}\"\n",
    "    main_links.append(main_link)\n",
    "    \n",
    "    historical_link = f\"{main_link}historical-data\"\n",
    "    historical_links.append(historical_link)"
   ]
  },
  {
   "cell_type": "code",
   "execution_count": null,
   "metadata": {},
   "outputs": [],
   "source": [
    "df_data = {\n",
    "    \"Rank\" : ranks , \n",
    "    \"Name\" : names ,\n",
    "    \"Symbol\" : symbols,\n",
    "    \"Market_Cap\" : market_caps,\n",
    "    \"Price\" : prices, \n",
    "    \"volume24h\" : volumes,\n",
    "    \"MainLink\" : main_links,\n",
    "    \"HistoricalLink\" : historical_links,\n",
    "}"
   ]
  },
  {
   "cell_type": "code",
   "execution_count": null,
   "metadata": {},
   "outputs": [],
   "source": [
    "df = pd.DataFrame(df_data)\n",
    "df.to_csv('Top200Main.csv',index=False)"
   ]
  },
  {
   "cell_type": "markdown",
   "metadata": {},
   "source": [
    "<p dir=rtl style=\"direction: rtl;text-align: justify;line-height:200%;font-family:vazir;font-size:medium\">\n",
    "<font face=\"vazir\" size=3>\n",
    "در صفحه‌ی تاریخچه‌ی هر ارز (مثل <a href=\"https://coinmarketcap.com/currencies/bitcoin/historical-data/\">این لینک</a>) می‌توان اطلاعات گوناگونی از جمله موارد زیر را مشاهده کرد:<br>\n",
    "<ul>\n",
    "<li>Name: نام رمزارز</li>\n",
    "<li>Symbol: نماد اختصاری رمزارز</li>\n",
    "<li>Market Cap: ارزش کل در گردش بازار ارز مربوطه</li>\n",
    "<li>Volume(24h): بیانگر این است که چقدر در ۲۴ ساعت اخیر این رمزارز در حال معامله شدن بوده</li>\n",
    "<li>Price: قیمت ارز</li>\n",
    "<li>Circulating supply: تعداد ارزی که در بازار به‌صورت عمومی در گردش‌ بوده (ضروری نیست)</li>\n",
    "<li>High: بالاترین ارزش پولی ارز در بازه‌ی زمانی مربوطه</li>\n",
    "<li>Low: پایین‌ترین ارزش پولی ارز در بازه‌ی زمانی مربوطه</li>\n",
    "<li>Open:  ارزش پولی ارز در زمان شروع بازه‌ی زمانی معامله</li>\n",
    "<li>Close: ارزش پولی ارز در زمان پایان شروع بازه‌ی زمانی معامله</li>\n",
    "</ul>\n",
    "</font>\n",
    "</p>\n",
    "\n",
    "<p dir=rtl style=\"direction: rtl;text-align: justify;line-height:200%;font-family:vazir;font-size:medium\">\n",
    "<font face=\"vazir\" size=3>\n",
    "شما باید به‌ازای هر رمز ارز، اطلاعات ۳۶۵ روز اخیر آن را استخراج کنید. برای این‌کار می‌توانید از فایل‌های csv که خود سایت در اختیارتان می‌گذارد استفاده کنید و تنها بازه‌ی تاریخی را معادل ۳۶۵ روز اخیر (نسبت به لحظه‌ی استخراج داده‌ها) انتخاب کنید.<br>\n",
    "</font>\n",
    "</p>\n"
   ]
  },
  {
   "cell_type": "code",
   "execution_count": null,
   "metadata": {},
   "outputs": [],
   "source": [
    "options = webdriver.EdgeOptions()\n",
    "options.add_argument('--ignore-ssl-errors=yes')\n",
    "options.add_argument('--ignore-certificate-errors')\n",
    "\n",
    "driver = webdriver.Edge(options=options)\n",
    "driver.get(\"https://coinmarketcap.com/historical/20230825/\")"
   ]
  },
  {
   "cell_type": "code",
   "execution_count": null,
   "metadata": {},
   "outputs": [],
   "source": [
    "# Scroll down the page in small steps to load more data\n",
    "SCROLL_PAUSE_TIME = 1\n",
    "last_height = driver.execute_script(\"return document.body.scrollHeight\")\n",
    "while True:\n",
    "    for i in range(10):\n",
    "        driver.execute_script(f\"window.scrollBy(0, {last_height/10});\")\n",
    "        time.sleep(SCROLL_PAUSE_TIME)\n",
    "    new_height = driver.execute_script(\"return document.body.scrollHeight\")\n",
    "    if new_height == last_height:\n",
    "        break\n",
    "    last_height = new_height\n",
    "\n",
    "# Get all the elements\n",
    "Name = driver.find_elements(By.CLASS_NAME, \"cmc-table__column-name--name.cmc-link\")\n",
    "Symbol = driver.find_elements(By.XPATH,\"//td[@class='cmc-table__cell cmc-table__cell--sortable cmc-table__cell--left cmc-table__cell--sort-by__symbol']/div\")\n",
    "MarketCap = driver.find_elements(By.XPATH,\"//td[@class='cmc-table__cell cmc-table__cell--sortable cmc-table__cell--right cmc-table__cell--sort-by__market-cap']/div\")\n",
    "Price = driver.find_elements(By.XPATH,\"//td[@class='cmc-table__cell cmc-table__cell--sortable cmc-table__cell--right cmc-table__cell--sort-by__price']/div\")\n",
    "CirculatingSupply= driver.find_elements(By.XPATH,\"//td[@class='cmc-table__cell cmc-table__cell--sortable cmc-table__cell--right cmc-table__cell--sort-by__circulating-supply']/div\")\n",
    "Volume =  driver.find_elements(By.CLASS_NAME,\"cmc-link\")"
   ]
  },
  {
   "cell_type": "code",
   "execution_count": null,
   "metadata": {},
   "outputs": [],
   "source": [
    "# Write data to CSV file\n",
    "with open('output.csv', 'w', encoding='utf-8') as f:\n",
    "    writer = csv.writer(f)\n",
    "    writer.writerow([\"Rank\" , \"Name\", \"Symbol\", \"MarketCap\", \"Price\", \"CirculatingSupply\", \"Volume\"])\n",
    "    for i in range(len(Name)):\n",
    "        writer.writerow([i , Name[i].text, Symbol[i].text, MarketCap[i].text, Price[i].text, CirculatingSupply[i].text, Volume[i].text])\n",
    "\n",
    "driver.quit()"
   ]
  },
  {
   "cell_type": "code",
   "execution_count": null,
   "metadata": {},
   "outputs": [],
   "source": [
    "options = webdriver.ChromeOptions()\n",
    "options.add_argument('--ignore-ssl-errors=yes')\n",
    "options.add_argument('--ignore-certificate-errors')\n",
    "options.add_argument('--start-fullscreen')\n",
    "\n",
    "driver = webdriver.Chrome(options=options)"
   ]
  },
  {
   "cell_type": "code",
   "execution_count": null,
   "metadata": {},
   "outputs": [],
   "source": [
    "# Scroll down the page in small steps to load more data\n",
    "SCROLL_PAUSE_TIME = 30\n",
    "last_height = driver.execute_script(\"return document.body.scrollHeight\")\n",
    "while True:\n",
    "    for i in range(10):\n",
    "        driver.execute_script(f\"window.scrollBy(0, {last_height/10});\")\n",
    "        time.sleep(SCROLL_PAUSE_TIME)\n",
    "    new_height = driver.execute_script(\"return document.body.scrollHeight\")\n",
    "    if new_height == last_height:\n",
    "        break\n",
    "    last_height = new_height"
   ]
  },
  {
   "cell_type": "code",
   "execution_count": null,
   "metadata": {},
   "outputs": [],
   "source": [
    "driver.get(\"https://coinmarketcap.com/historical/20230825/\")\n",
    "time.sleep(5)\n",
    "for i in range(1,201) :\n",
    "    \n",
    "    adad = str(i) \n",
    "    stt = \"/html/body/div[1]/div[2]/div[2]/div/div[1]/div[3]/div[1]/div[3]/div/table/tbody/tr[\"+adad+\"]/td[11]/div/div/div[1]\"\n",
    "    stlink = \"/html/body/div[1]/div[2]/div[2]/div/div[1]/div[3]/div[1]/div[3]/div/table/tbody/tr[\"+adad+\"]/td[11]/div/div/div[2]/ul/li[3]/a\"\n",
    "    button = driver.find_element(By.XPATH, stt)\n",
    "    button.click()\n",
    "    #button2 = driver.find_element(By.XPATH , \"/html/body/div[1]/div[2]/div[2]/div/div[1]/h1\")\n",
    "    button2 = driver.find_element(By.XPATH ,stlink)\n",
    "    time.sleep(2)\n",
    "    button2.click()\n",
    "    time.sleep(2)\n",
    "    button1 = driver.find_element(By.XPATH, \"/html/body/div[1]/div[2]/div[1]/div[2]/div/div/div/div[2]/div/div[1]/div/button[1]\")\n",
    "    button1.click()\n",
    "    time.sleep(2)\n",
    "    button2 = driver.find_element(By.XPATH , \"/html/body/div[1]/div[2]/div[1]/div[2]/div/div/div/div[2]/div/div[1]/div[2]/div/div[1]/div/div/div[1]/div[2]/ul/li[5]\")\n",
    "    button2.click()\n",
    "    time.sleep(2)\n",
    "    button3 = driver.find_element(By.XPATH , \"/html/body/div[1]/div[2]/div[1]/div[2]/div/div/div/div[2]/div/div[1]/div[2]/div/div[1]/div/div/div[2]/span/button\")\n",
    "    button3.click()\n",
    "    time.sleep(2)\n",
    "    button4 = driver.find_element(By.XPATH,\"/html/body/div[1]/div[2]/div[1]/div[2]/div/div/div/div[2]/div/div[1]/div/button[2]/div[1]/div\")\n",
    "    button4.click()\n",
    "    time.sleep(3)\n",
    "    driver.back()\n",
    "    time.sleep(3)\n",
    "\n",
    "    driver.execute_script(\"window.scrollBy(0, 47)\")"
   ]
  },
  {
   "cell_type": "code",
   "execution_count": null,
   "metadata": {},
   "outputs": [],
   "source": [
    "for name in upname:\n",
    "    driver.get(f\"https://coinmarketcap.com/currencies/{name}/historical-data/\")\n",
    "    time.sleep(2) \n",
    "    button1 = driver.find_element(By.XPATH, \"/html/body/div[1]/div[2]/div[1]/div[2]/div/div/div/div[2]/div/div[1]/div/button[1]\")\n",
    "    button1.click()\n",
    "    time.sleep(2)\n",
    "    button2 = driver.find_element(By.XPATH , \"/html/body/div[1]/div[2]/div[1]/div[2]/div/div/div/div[2]/div/div[1]/div[2]/div/div[1]/div/div/div[1]/div[2]/ul/li[5]\")\n",
    "    button2.click()\n",
    "    time.sleep(2)\n",
    "    button3 = driver.find_element(By.XPATH , \"/html/body/div[1]/div[2]/div[1]/div[2]/div/div/div/div[2]/div/div[1]/div[2]/div/div[1]/div/div/div[2]/span/button\")\n",
    "    button3.click()\n",
    "    time.sleep(2)\n",
    "    button4 = driver.find_element(By.XPATH,\"/html/body/div[1]/div[2]/div[1]/div[2]/div/div/div/div[2]/div/div[1]/div/button[2]/div[1]/div\")\n",
    "    button4.click()\n",
    "    time.sleep(10)\n",
    "    \n",
    "driver.quit()"
   ]
  },
  {
   "cell_type": "markdown",
   "metadata": {},
   "source": [
    "<p dir=rtl style=\"direction: rtl;text-align: justify;line-height:200%;font-family:vazir;font-size:medium\">\n",
    "<font face=\"vazir\" size=3>\n",
    "علاوه بر این، به‌ازای هر رمز ارز نیاز است اطلاعاتی را از صفحه‌ی ویژه‌ی آن استخراج کنید. یکی از این اطلاعات مهم، لینک صفحه‌ی گیت‌هاب آن (در صورت وجود) است که در قسمت Official links قابل مشاهده است.\n",
    "</font>\n",
    "</p>"
   ]
  },
  {
   "cell_type": "code",
   "execution_count": null,
   "metadata": {},
   "outputs": [],
   "source": [
    "driver = webdriver.Chrome()\n",
    "driver.get(\"https://coinmarketcap.com/historical/20230825/\")\n",
    "driver.maximize_window()"
   ]
  },
  {
   "cell_type": "code",
   "execution_count": null,
   "metadata": {},
   "outputs": [],
   "source": [
    "# Scroll down the page in small steps to load more data\n",
    "SCROLL_PAUSE_TIME = 1\n",
    "last_height = driver.execute_script(\"return document.body.scrollHeight\")\n",
    "while True:\n",
    "    for i in range(10):\n",
    "        driver.execute_script(f\"window.scrollBy(0, {last_height/10});\")\n",
    "        time.sleep(SCROLL_PAUSE_TIME)\n",
    "    new_height = driver.execute_script(\"return document.body.scrollHeight\")\n",
    "    if new_height == last_height:\n",
    "        break\n",
    "    last_height = new_height"
   ]
  },
  {
   "cell_type": "code",
   "execution_count": null,
   "metadata": {},
   "outputs": [],
   "source": [
    "# Get all the elements\n",
    "Name = driver.find_elements(By.CLASS_NAME, \"cmc-table__column-name--name.cmc-link\")\n",
    "Symbol = driver.find_elements(By.XPATH,\"//td[@class='cmc-table__cell cmc-table__cell--sortable cmc-table__cell--left cmc-table__cell--sort-by__symbol']/div\")\n",
    "MarketCap = driver.find_elements(By.XPATH,\"//td[@class='cmc-table__cell cmc-table__cell--sortable cmc-table__cell--right cmc-table__cell--sort-by__market-cap']/div\")\n",
    "Price = driver.find_elements(By.XPATH,\"//td[@class='cmc-table__cell cmc-table__cell--sortable cmc-table__cell--right cmc-table__cell--sort-by__price']/div\")\n",
    "CirculatingSupply= driver.find_elements(By.XPATH,\"//td[@class='cmc-table__cell cmc-table__cell--sortable cmc-table__cell--right cmc-table__cell--sort-by__circulating-supply']/div\")\n",
    "Volume =  driver.find_elements(By.CLASS_NAME,\"cmc-link\")\n",
    "\n",
    "# Scraping the Links of each Currency\n",
    "Links = []\n",
    "for name in Name:\n",
    "    Links.append(name.get_attribute('href'))"
   ]
  },
  {
   "cell_type": "code",
   "execution_count": null,
   "metadata": {},
   "outputs": [],
   "source": [
    "# Scraping the GitHub URL of each Currency\n",
    "driver = webdriver.Chrome()\n",
    "driver.maximize_window()\n",
    "\n",
    "#Links = ['https://coinmarketcap.com/currencies/bitcoin/', 'https://coinmarketcap.com/currencies/tether/']\n",
    "\n",
    "GitHubLink = []\n",
    "for url in Links:\n",
    "    driver.get(url)\n",
    "    OfficialLinksTemplate = driver.find_elements(By.XPATH, \"//a[@rel='nofollow noopener']\")\n",
    "    flag = 0\n",
    "    for web in OfficialLinksTemplate:\n",
    "            if web.text == \"GitHub\":\n",
    "                GitHubLink.append(web.get_attribute('href'))\n",
    "                flag = 1\n",
    "    if flag == 0:\n",
    "        GitHubLink.append(\"\")"
   ]
  },
  {
   "cell_type": "code",
   "execution_count": null,
   "metadata": {},
   "outputs": [],
   "source": [
    "# to CSV of GitHubLinks\n",
    "with open('GitHubLinks.csv', 'w', encoding='utf-8') as f:\n",
    "    writer = csv.writer(f)\n",
    "    writer.writerow([\"Rank\", \"Name\", \"GitHub Link\"])\n",
    "    for i in range(len(GitHubLink)):\n",
    "        writer.writerow([i+1 ,Name[i].text, GitHubLink[i]])\n",
    "driver.quit()"
   ]
  },
  {
   "cell_type": "markdown",
   "metadata": {},
   "source": [
    "<p dir=rtl style=\"direction: rtl;text-align: justify;line-height:200%;font-family:vazir;font-size:medium\">\n",
    "<font face=\"vazir\" size=3>\n",
    "مورد دیگر تگ‌هایی‌ست که در پایین همان بخش سمت چپ صفحه نوشته شده‌اند. به‌عنوان مثال برای بیت‌کوین سه تگ Mineable، PoW و SHA-256 نوشته شده است (استخراج تگ‌هایی که با کلیک بر روی دکمه‌ی show all نمایش داده می‌شوند بخش امتیازی خواهد بود).\n",
    "</font>\n",
    "</p>"
   ]
  },
  {
   "cell_type": "code",
   "execution_count": null,
   "metadata": {},
   "outputs": [],
   "source": [
    "driver = webdriver.Chrome()\n",
    "driver.get(\"https://coinmarketcap.com/historical/20230825/\")\n",
    "driver.maximize_window()"
   ]
  },
  {
   "cell_type": "code",
   "execution_count": null,
   "metadata": {},
   "outputs": [],
   "source": [
    "# Scroll down the page in small steps to load more data\n",
    "SCROLL_PAUSE_TIME = 1\n",
    "last_height = driver.execute_script(\"return document.body.scrollHeight\")\n",
    "while True:\n",
    "    for i in range(10):\n",
    "        driver.execute_script(f\"window.scrollBy(0, {last_height/10});\")\n",
    "        time.sleep(SCROLL_PAUSE_TIME)\n",
    "    new_height = driver.execute_script(\"return document.body.scrollHeight\")\n",
    "    if new_height == last_height:\n",
    "        break\n",
    "    last_height = new_height"
   ]
  },
  {
   "cell_type": "code",
   "execution_count": null,
   "metadata": {},
   "outputs": [],
   "source": [
    "# Get all the elements\n",
    "Name = driver.find_elements(By.CLASS_NAME, \"cmc-table__column-name--name.cmc-link\")\n",
    "Symbol = driver.find_elements(By.XPATH,\"//td[@class='cmc-table__cell cmc-table__cell--sortable cmc-table__cell--left cmc-table__cell--sort-by__symbol']/div\")\n",
    "MarketCap = driver.find_elements(By.XPATH,\"//td[@class='cmc-table__cell cmc-table__cell--sortable cmc-table__cell--right cmc-table__cell--sort-by__market-cap']/div\")\n",
    "Price = driver.find_elements(By.XPATH,\"//td[@class='cmc-table__cell cmc-table__cell--sortable cmc-table__cell--right cmc-table__cell--sort-by__price']/div\")\n",
    "CirculatingSupply= driver.find_elements(By.XPATH,\"//td[@class='cmc-table__cell cmc-table__cell--sortable cmc-table__cell--right cmc-table__cell--sort-by__circulating-supply']/div\")\n",
    "Volume =  driver.find_elements(By.CLASS_NAME,\"cmc-link\")\n",
    "\n",
    "# Scraping the Links of each Currency\n",
    "Links = []\n",
    "for name in Name:\n",
    "    Links.append(name.get_attribute('href'))"
   ]
  },
  {
   "cell_type": "code",
   "execution_count": null,
   "metadata": {},
   "outputs": [],
   "source": [
    "# Scraping the Tag of each Currency\n",
    "\n",
    "#Links = ['https://coinmarketcap.com/currencies/bitcoin/']\n",
    "driver = webdriver.Edge()\n",
    "\n",
    "Tag = []\n",
    "for url in Links:\n",
    "    driver.get(url)\n",
    "    driver.maximize_window()\n",
    "    button = driver.find_element(By.XPATH , \"/html/body/div[1]/div[2]/div[1]/div[2]/div/div/div[2]/div[3]/section[2]/div/div[7]/div[1]/span\")\n",
    "    driver.execute_script(\"arguments[0].scrollIntoView();\", button)\n",
    "    driver.execute_script(\"window.scrollBy(0, 4000)\")\n",
    "    button2=driver.find_element(By.XPATH , \"/html/body/div[1]/div[2]/div[1]/div[2]/div/div/div[2]/div[3]/section[2]/div/div[7]/div[2]/div/span[4]\")\n",
    "    button2.click()\n",
    "    time.sleep(2)\n",
    "\n",
    "    TagTemplate = driver.find_elements(By.XPATH, \"//div[@class='sc-16891c57-0 ddQhJW']/div/div/span/a\")\n",
    "    flag = 0\n",
    "    TemporaryTag = []\n",
    "    for tag in TagTemplate:\n",
    "        print(tag.text)\n",
    "        if tag.text != \"\":\n",
    "            TemporaryTag.append(tag.text)\n",
    "            flag = 1\n",
    "    Tag.append(','.join(TemporaryTag))\n",
    "    if flag == 0:\n",
    "        Tag.append(\"\")"
   ]
  },
  {
   "cell_type": "code",
   "execution_count": null,
   "metadata": {},
   "outputs": [],
   "source": [
    "# to CSV of GitHubLinks\n",
    "with open('Tags.csv', 'w', encoding='utf-8') as f:\n",
    "    writer = csv.writer(f)\n",
    "    writer.writerow([\"Rank\", \"Name\", \"Tags\"])\n",
    "    for i in range(len(Tag)):\n",
    "        writer.writerow([i+1 ,Name[i].text, Tag[i]])\n",
    "driver.quit()"
   ]
  }
 ],
 "metadata": {
  "language_info": {
   "name": "python"
  },
  "orig_nbformat": 4
 },
 "nbformat": 4,
 "nbformat_minor": 2
}
